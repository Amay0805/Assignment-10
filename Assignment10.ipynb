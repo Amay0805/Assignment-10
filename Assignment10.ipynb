{
 "cells": [
  {
   "cell_type": "code",
   "execution_count": 1,
   "id": "80b7c95d-7ebc-45bb-b742-f24c84d4adff",
   "metadata": {},
   "outputs": [
    {
     "name": "stdout",
     "output_type": "stream",
     "text": [
      "True\n"
     ]
    }
   ],
   "source": [
    "#1\n",
    "def duplicate(arr):\n",
    "    count=0\n",
    "    for i in arr:\n",
    "        if arr.count(i)>1:\n",
    "            count+=1\n",
    "    if count>1:\n",
    "        return True\n",
    "    return False\n",
    "\n",
    "arr=[1,2,4,2,5,9]\n",
    "print(duplicate(arr))"
   ]
  },
  {
   "cell_type": "code",
   "execution_count": 2,
   "id": "c106059d-6134-4454-9ef5-b745634044e7",
   "metadata": {},
   "outputs": [
    {
     "name": "stdout",
     "output_type": "stream",
     "text": [
      "[4, 5, 6, 7, 1, 2, 3, 4]\n"
     ]
    }
   ],
   "source": [
    "#2\n",
    "def rotatebyright(arr,n):\n",
    "    l=len(arr)-1\n",
    "    list=arr[l-n:]+arr[0:n+1]\n",
    "    return list\n",
    "arr=[1,2,3,4,5,6,7]\n",
    "print(rotatebyright(arr,3))"
   ]
  },
  {
   "cell_type": "code",
   "execution_count": 3,
   "id": "f8512126-726f-483c-a2fd-eff583f08d3e",
   "metadata": {},
   "outputs": [
    {
     "name": "stdout",
     "output_type": "stream",
     "text": [
      "[36, 19, 89, 23, 65, 34, 45]\n"
     ]
    }
   ],
   "source": [
    "#3\n",
    "arr=[45,34,65,23,89,19,36]\n",
    "def arrreverse(arr):\n",
    "    return arr[::-1]\n",
    "print(arrreverse(arr))"
   ]
  },
  {
   "cell_type": "code",
   "execution_count": 4,
   "id": "71cc8823-1bfc-4ef0-8301-e312dc1a028a",
   "metadata": {},
   "outputs": [
    {
     "name": "stdout",
     "output_type": "stream",
     "text": [
      "20\n"
     ]
    }
   ],
   "source": [
    "#4\n",
    "def maxinarr(arr):\n",
    "    max=arr[0]\n",
    "    for i in arr:\n",
    "        if i>max:\n",
    "            max=i\n",
    "    return max\n",
    "arr=[10,5,20,8,15]\n",
    "print(maxinarr(arr))"
   ]
  },
  {
   "cell_type": "code",
   "execution_count": 5,
   "id": "7f824518-08df-4035-a990-bd1b669e4423",
   "metadata": {},
   "outputs": [
    {
     "name": "stdout",
     "output_type": "stream",
     "text": [
      "[1, 2, 3, 4, 5]\n"
     ]
    }
   ],
   "source": [
    "#5\n",
    "def unique(input_list):\n",
    "    n = len(input_list)\n",
    "    i = 0\n",
    "\n",
    "    while i < n:\n",
    "        j = i + 1\n",
    "        while j < n:\n",
    "            if input_list[i] == input_list[j]:\n",
    "                input_list.pop(j)\n",
    "                n = len(input_list)\n",
    "            else:\n",
    "                j += 1\n",
    "        i += 1\n",
    "\n",
    "    return input_list\n",
    "\n",
    "arr = [1, 1, 2, 2, 2, 3, 3, 4, 4, 4, 5, 5]\n",
    "print(unique(arr))\n"
   ]
  }
 ],
 "metadata": {
  "kernelspec": {
   "display_name": "Python 3 (ipykernel)",
   "language": "python",
   "name": "python3"
  },
  "language_info": {
   "codemirror_mode": {
    "name": "ipython",
    "version": 3
   },
   "file_extension": ".py",
   "mimetype": "text/x-python",
   "name": "python",
   "nbconvert_exporter": "python",
   "pygments_lexer": "ipython3",
   "version": "3.10.8"
  }
 },
 "nbformat": 4,
 "nbformat_minor": 5
}
